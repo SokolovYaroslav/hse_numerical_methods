{
 "cells": [
  {
   "cell_type": "code",
   "execution_count": 1,
   "metadata": {
    "collapsed": true,
    "pycharm": {
     "name": "#%%\n"
    }
   },
   "outputs": [],
   "source": [
    "import time\n",
    "from typing import Tuple, Callable, List\n",
    "import numpy as np\n",
    "import plotly.graph_objs as go\n",
    "from scipy.linalg import solve_banded, solve"
   ]
  },
  {
   "cell_type": "markdown",
   "source": [
    "## Аналитическое решение\n",
    "Аналитическим решением ОДУ $-u''(x) + u(x) = x, ~ 0 \\le x \\le 1, ~ u(0) = u(1) = 0$\n",
    "является функция $u(x) = x - \\frac{e^{1-x} - e^{x+1}}{1 - e^2}$.\n",
    "\n",
    "Давайте его запрограммируем:"
   ],
   "metadata": {
    "collapsed": false,
    "pycharm": {
     "name": "#%% md\n"
    }
   }
  },
  {
   "cell_type": "code",
   "execution_count": 2,
   "outputs": [],
   "source": [
    "def get_grid(N: int) -> np.ndarray:\n",
    "    h = 1 / (N + 1)\n",
    "    return np.linspace(h, 1, num=N, endpoint=False, dtype=np.float64)\n"
   ],
   "metadata": {
    "collapsed": false,
    "pycharm": {
     "name": "#%%\n"
    }
   }
  },
  {
   "cell_type": "code",
   "execution_count": 3,
   "outputs": [],
   "source": [
    "def u(grid: np.ndarray) -> np.ndarray:\n",
    "    return grid - ((np.exp(1 - grid) - np.exp(grid + 1)) / (1 - np.exp(2)))"
   ],
   "metadata": {
    "collapsed": false,
    "pycharm": {
     "name": "#%%\n"
    }
   }
  },
  {
   "cell_type": "markdown",
   "source": [
    "Далее построим матрицу $A$ и вектор $b$ такие,\n",
    "что решение $Au = b$ давало значения функции $u$ в точках $x_1, \\dots, x_N$."
   ],
   "metadata": {
    "collapsed": false,
    "pycharm": {
     "name": "#%% md\n"
    }
   }
  },
  {
   "cell_type": "code",
   "execution_count": 4,
   "outputs": [],
   "source": [
    "def get_A_b(grid: np.ndarray, band: bool) -> Tuple[np.ndarray, np.ndarray]:\n",
    "    N = grid.shape[0]\n",
    "    h = 1 / (N + 1)\n",
    "    if band:\n",
    "        A = np.array([[-(h ** -2)] * N, [2 * (h ** -2) + 1] * N, [-(h ** -2)] * N])\n",
    "    else:\n",
    "        A = (\n",
    "            np.eye(N, k=0, dtype=np.float64) * (2 * (h ** -2) + 1) +\n",
    "            np.eye(N, k=-1, dtype=np.float64) * (-(h ** -2)) +\n",
    "            np.eye(N, k=1, dtype=np.float64) * (-(h ** -2))\n",
    "        )\n",
    "    b = grid\n",
    "\n",
    "    return A, b"
   ],
   "metadata": {
    "collapsed": false,
    "pycharm": {
     "name": "#%%\n"
    }
   }
  },
  {
   "cell_type": "markdown",
   "source": [
    "### Решение с помощью встроенной функции\n",
    "В качестве встроенной функции я использую `scipy.linalg.solve`.\n",
    "Также я решил протестировать `scipy.linalg.solve_banded`,\n",
    "так как этот метод умеет решать СЛАУ в ленточном виде."
   ],
   "metadata": {
    "collapsed": false,
    "pycharm": {
     "name": "#%% md\n"
    }
   }
  },
  {
   "cell_type": "code",
   "execution_count": 5,
   "outputs": [],
   "source": [
    "def solve_scipy(A: np.ndarray, b: np.ndarray) -> np.ndarray:\n",
    "    return solve(A, b)"
   ],
   "metadata": {
    "collapsed": false,
    "pycharm": {
     "name": "#%%\n"
    }
   }
  },
  {
   "cell_type": "code",
   "execution_count": 6,
   "outputs": [],
   "source": [
    "def solve_scipy_band(A: np.ndarray, b: np.ndarray) -> np.ndarray:\n",
    "    return solve_banded((1, 1), A, b)"
   ],
   "metadata": {
    "collapsed": false,
    "pycharm": {
     "name": "#%%\n"
    }
   }
  },
  {
   "cell_type": "markdown",
   "source": [
    "### Решение методом прогонки"
   ],
   "metadata": {
    "collapsed": false,
    "pycharm": {
     "name": "#%% md\n"
    }
   }
  },
  {
   "cell_type": "code",
   "execution_count": null,
   "outputs": [],
   "source": [
    "def solve_thomas(A: np.ndarray, b: np.ndarray) -> np.ndarray:\n",
    "    b = b.copy()\n",
    "    d0 = A[0].copy()\n",
    "    d1 = A[1].copy()\n",
    "    d2 = A[2].copy()\n",
    "    num_eqs = b.shape[0]\n",
    "    for i in range(1, num_eqs):\n",
    "        m = d2[i - 1] / d1[i - 1]\n",
    "        d1[i] -= m * d0[i - 1]\n",
    "        b[i] -= m * b[i - 1]\n",
    "\n",
    "    x = d1\n",
    "    x[-1] = b[-1] / d1[-1]\n",
    "\n",
    "    for i in reversed(range(num_eqs - 1)):\n",
    "        x[i] = (b[i] - d0[i] * x[i + 1]) / d1[i]\n",
    "\n",
    "    return x"
   ],
   "metadata": {
    "collapsed": false,
    "pycharm": {
     "name": "#%%\n"
    }
   }
  },
  {
   "cell_type": "markdown",
   "source": [
    "### Анализ работы встроенных и реализованной функций"
   ],
   "metadata": {
    "collapsed": false,
    "pycharm": {
     "name": "#%% md\n"
    }
   }
  },
  {
   "cell_type": "code",
   "execution_count": 7,
   "outputs": [],
   "source": [
    "def calc_error(predicted: np.array, true: np.array) -> np.ndarray:\n",
    "    return np.linalg.norm(predicted - true)"
   ],
   "metadata": {
    "collapsed": false,
    "pycharm": {
     "name": "#%%\n"
    }
   }
  },
  {
   "cell_type": "code",
   "execution_count": 13,
   "outputs": [],
   "source": [
    "def analyze(solvers: List[Tuple[Callable, bool]],\n",
    "            true_func: Callable[[np.ndarray], np.ndarray],\n",
    "            max_N: int, num_N: int, iters_to_time: int) -> None:\n",
    "\n",
    "    times = [[] for _ in range(len(solvers))]\n",
    "    errors = [[] for _ in range(len(solvers))]\n",
    "\n",
    "    Ns = np.linspace(50, max_N, num=num_N, endpoint=True, dtype=np.int64)\n",
    "\n",
    "    for N in Ns:\n",
    "        grid = get_grid(N)\n",
    "        true = true_func(grid)\n",
    "\n",
    "        for i, solver in enumerate(solvers):\n",
    "            # Error calculation\n",
    "            solver, banded = solver\n",
    "            A, b = get_A_b(grid, band=banded)\n",
    "            predicted = solver(A, b)\n",
    "            error = calc_error(predicted, true)\n",
    "            errors[i].append(error)\n",
    "\n",
    "            # Time measure\n",
    "            local_times = []\n",
    "            for _ in range(iters_to_time):\n",
    "                start = time.time()\n",
    "                _ = solver(A, b)\n",
    "                local_times.append(time.time() - start)\n",
    "            times[i].append(np.array(local_times[int(iters_to_time / 10):]).mean())\n",
    "\n",
    "    fig_error = go.Figure()\n",
    "    for e, solver in zip(errors, solvers):\n",
    "        name = solver[0].__name__\n",
    "        print(f\"Building error plot for {name}\")\n",
    "        fig_error.add_trace(\n",
    "            go.Scatter(x=Ns, y=e, mode='lines+markers', name=f\"{name}\")\n",
    "        )\n",
    "    fig_error.update_layout(\n",
    "        yaxis={\"title\": \"Error\", \"exponentformat\": \"e\", \"type\": \"log\"},\n",
    "        xaxis={\"title\": \"N\"},\n",
    "        title=f\"Error dependency by N\"\n",
    "    )\n",
    "    fig_error.show()\n",
    "\n",
    "    fig_time = go.Figure()\n",
    "    for t, solver in zip(times, solvers):\n",
    "        name = solver[0].__name__\n",
    "        fig_time.add_trace(\n",
    "            go.Scatter(x=Ns, y=t, mode='lines+markers', name=f\"{name}\")\n",
    "        )\n",
    "    fig_time.update_layout(\n",
    "        yaxis={\"title\": \"Time\"},\n",
    "        xaxis={\"title\": \"N\"},\n",
    "        title=f\"Time dependency by N\"\n",
    "    )\n",
    "    fig_time.show()\n"
   ],
   "metadata": {
    "collapsed": false,
    "pycharm": {
     "name": "#%%\n"
    }
   }
  },
  {
   "cell_type": "code",
   "execution_count": 14,
   "outputs": [
    {
     "name": "stdout",
     "output_type": "stream",
     "text": [
      "Building error plot for solve_scipy\n",
      "Building error plot for solve_thomas\n",
      "Building error plot for solve_scipy_band\n"
     ]
    },
    {
     "data": {
      "application/vnd.plotly.v1+json": {
       "config": {
        "plotlyServerURL": "https://plot.ly"
       },
       "data": [
        {
         "mode": "lines+markers",
         "name": "solve_scipy",
         "type": "scatter",
         "x": [
          50,
          69,
          88,
          108,
          127,
          146,
          166,
          185,
          205,
          224,
          243,
          263,
          282,
          302,
          321,
          340,
          360,
          379,
          398,
          418,
          437,
          457,
          476,
          495,
          515,
          534,
          554,
          573,
          592,
          612,
          631,
          651,
          670,
          689,
          709,
          728,
          747,
          767,
          786,
          806,
          825,
          844,
          864,
          883,
          903,
          922,
          941,
          961,
          980,
          1000
         ],
         "y": [
          8.702932925212435E-6,
          5.412323339040618E-6,
          3.7752876384580847E-6,
          2.78546439116871E-6,
          2.188888645358956E-6,
          1.778539137174888E-6,
          1.4688088886764635E-6,
          1.2495998525465547E-6,
          1.0721112326753383E-6,
          9.392195090328535E-7,
          8.316800758556609E-7,
          7.389844151775617E-7,
          6.658273078200768E-7,
          6.010040882639935E-7,
          5.486021964190406E-7,
          5.033961447608699E-7,
          4.621475859564853E-7,
          4.279235382064285E-7,
          3.977244340475735E-7,
          3.6959036177299E-7,
          3.4580436910536434E-7,
          3.234026516422773E-7,
          3.042735691876952E-7,
          2.869585049501687E-7,
          2.7043783325109895E-7,
          2.5615982676496153E-7,
          2.424390366062684E-7,
          2.3050161541164196E-7,
          2.1951282917165385E-7,
          2.0885809497475178E-7,
          1.9951052661971272E-7,
          1.9040131468812357E-7,
          1.8237164182444267E-7,
          1.7489150205751848E-7,
          1.6755344769437016E-7,
          1.6104600117424307E-7,
          1.5494928018763718E-7,
          1.4893622891855163E-7,
          1.4357489782510333E-7,
          1.382712634725765E-7,
          1.335274222018833E-7,
          1.2904977435778874E-7,
          1.2459997764911717E-7,
          1.206045935421256E-7,
          1.1662454346161438E-7,
          1.1304164439087023E-7,
          1.0963930937680929E-7,
          1.0623791134650188E-7,
          1.031668261185948E-7,
          1.0009011504477472E-7
         ]
        },
        {
         "mode": "lines+markers",
         "name": "solve_thomas",
         "type": "scatter",
         "x": [
          50,
          69,
          88,
          108,
          127,
          146,
          166,
          185,
          205,
          224,
          243,
          263,
          282,
          302,
          321,
          340,
          360,
          379,
          398,
          418,
          437,
          457,
          476,
          495,
          515,
          534,
          554,
          573,
          592,
          612,
          631,
          651,
          670,
          689,
          709,
          728,
          747,
          767,
          786,
          806,
          825,
          844,
          864,
          883,
          903,
          922,
          941,
          961,
          980,
          1000
         ],
         "y": [
          8.702932925556952E-6,
          5.4123233419371705E-6,
          3.7752876371654192E-6,
          2.785464389222257E-6,
          2.1888886452993026E-6,
          1.778539143603162E-6,
          1.4688088865781028E-6,
          1.2495998292752535E-6,
          1.0721112239573484E-6,
          9.392195185425147E-7,
          8.316800895148488E-7,
          7.389844043530477E-7,
          6.658273481437801E-7,
          6.010040399341172E-7,
          5.48602292040997E-7,
          5.033962274290388E-7,
          4.6214762026725863E-7,
          4.27923457420327E-7,
          3.9772447092024884E-7,
          3.695903551984014E-7,
          3.458044720163663E-7,
          3.2340262384427097E-7,
          3.042735219401572E-7,
          2.8695862327958303E-7,
          2.704377189675359E-7,
          2.5615989710940683E-7,
          2.4243890528054413E-7,
          2.305018393354322E-7,
          2.195126411490848E-7,
          2.0885803861266884E-7,
          1.9951071973394937E-7,
          1.904014389223492E-7,
          1.8237186648821995E-7,
          1.7489119186154226E-7,
          1.6755363009276035E-7,
          1.6104616228822411E-7,
          1.5494923694458788E-7,
          1.4893652265426958E-7,
          1.4357532488730174E-7,
          1.3827169238471784E-7,
          1.3352787224763084E-7,
          1.2904959866407534E-7,
          1.2459985187291002E-7,
          1.2060442360511156E-7,
          1.1662495368216294E-7,
          1.1304181153815194E-7,
          1.0963914236407E-7,
          1.0623782989272804E-7,
          1.0316600899762533E-7,
          1.0008994317648208E-7
         ]
        },
        {
         "mode": "lines+markers",
         "name": "solve_scipy_band",
         "type": "scatter",
         "x": [
          50,
          69,
          88,
          108,
          127,
          146,
          166,
          185,
          205,
          224,
          243,
          263,
          282,
          302,
          321,
          340,
          360,
          379,
          398,
          418,
          437,
          457,
          476,
          495,
          515,
          534,
          554,
          573,
          592,
          612,
          631,
          651,
          670,
          689,
          709,
          728,
          747,
          767,
          786,
          806,
          825,
          844,
          864,
          883,
          903,
          922,
          941,
          961,
          980,
          1000
         ],
         "y": [
          8.70293292549598E-6,
          5.4123233418601515E-6,
          3.7752876371804134E-6,
          2.7854643889528107E-6,
          2.188888645358956E-6,
          1.7785391435396705E-6,
          1.4688088864529963E-6,
          1.2495998292955738E-6,
          1.0721112239482295E-6,
          9.392195185213075E-7,
          8.316800894105319E-7,
          7.389844043396342E-7,
          6.65827347227635E-7,
          6.010040402854845E-7,
          5.486022917352113E-7,
          5.033962279983209E-7,
          4.621475968674461E-7,
          4.279234575743793E-7,
          3.977244708288843E-7,
          3.6959035494009834E-7,
          3.4580447183577964E-7,
          3.234026232255289E-7,
          3.042735226144377E-7,
          2.86958623728367E-7,
          2.7043771831044325E-7,
          2.5615989740246795E-7,
          2.4243890607828897E-7,
          2.305018391861764E-7,
          2.1951264125395846E-7,
          2.0885803797240542E-7,
          1.995107195461404E-7,
          1.904014403236701E-7,
          1.8237186574598202E-7,
          1.7489119356005698E-7,
          1.675536301279361E-7,
          1.6104616353010465E-7,
          1.549492370307735E-7,
          1.489365223380425E-7,
          1.435753241928112E-7,
          1.382716932244628E-7,
          1.3352787499685613E-7,
          1.2904959540957388E-7,
          1.2459985082230438E-7,
          1.2060442337434358E-7,
          1.1662495440546136E-7,
          1.1304180992343832E-7,
          1.0963914395610429E-7,
          1.0623782906070504E-7,
          1.0316600765269385E-7,
          1.0008994315743147E-7
         ]
        }
       ],
       "layout": {
        "template": {
         "data": {
          "bar": [
           {
            "error_x": {
             "color": "#2a3f5f"
            },
            "error_y": {
             "color": "#2a3f5f"
            },
            "marker": {
             "line": {
              "color": "#E5ECF6",
              "width": 0.5
             }
            },
            "type": "bar"
           }
          ],
          "barpolar": [
           {
            "marker": {
             "line": {
              "color": "#E5ECF6",
              "width": 0.5
             }
            },
            "type": "barpolar"
           }
          ],
          "carpet": [
           {
            "aaxis": {
             "endlinecolor": "#2a3f5f",
             "gridcolor": "white",
             "linecolor": "white",
             "minorgridcolor": "white",
             "startlinecolor": "#2a3f5f"
            },
            "baxis": {
             "endlinecolor": "#2a3f5f",
             "gridcolor": "white",
             "linecolor": "white",
             "minorgridcolor": "white",
             "startlinecolor": "#2a3f5f"
            },
            "type": "carpet"
           }
          ],
          "choropleth": [
           {
            "colorbar": {
             "outlinewidth": 0,
             "ticks": ""
            },
            "type": "choropleth"
           }
          ],
          "contour": [
           {
            "colorbar": {
             "outlinewidth": 0,
             "ticks": ""
            },
            "colorscale": [
             [
              0.0,
              "#0d0887"
             ],
             [
              0.1111111111111111,
              "#46039f"
             ],
             [
              0.2222222222222222,
              "#7201a8"
             ],
             [
              0.3333333333333333,
              "#9c179e"
             ],
             [
              0.4444444444444444,
              "#bd3786"
             ],
             [
              0.5555555555555556,
              "#d8576b"
             ],
             [
              0.6666666666666666,
              "#ed7953"
             ],
             [
              0.7777777777777778,
              "#fb9f3a"
             ],
             [
              0.8888888888888888,
              "#fdca26"
             ],
             [
              1.0,
              "#f0f921"
             ]
            ],
            "type": "contour"
           }
          ],
          "contourcarpet": [
           {
            "colorbar": {
             "outlinewidth": 0,
             "ticks": ""
            },
            "type": "contourcarpet"
           }
          ],
          "heatmap": [
           {
            "colorbar": {
             "outlinewidth": 0,
             "ticks": ""
            },
            "colorscale": [
             [
              0.0,
              "#0d0887"
             ],
             [
              0.1111111111111111,
              "#46039f"
             ],
             [
              0.2222222222222222,
              "#7201a8"
             ],
             [
              0.3333333333333333,
              "#9c179e"
             ],
             [
              0.4444444444444444,
              "#bd3786"
             ],
             [
              0.5555555555555556,
              "#d8576b"
             ],
             [
              0.6666666666666666,
              "#ed7953"
             ],
             [
              0.7777777777777778,
              "#fb9f3a"
             ],
             [
              0.8888888888888888,
              "#fdca26"
             ],
             [
              1.0,
              "#f0f921"
             ]
            ],
            "type": "heatmap"
           }
          ],
          "heatmapgl": [
           {
            "colorbar": {
             "outlinewidth": 0,
             "ticks": ""
            },
            "colorscale": [
             [
              0.0,
              "#0d0887"
             ],
             [
              0.1111111111111111,
              "#46039f"
             ],
             [
              0.2222222222222222,
              "#7201a8"
             ],
             [
              0.3333333333333333,
              "#9c179e"
             ],
             [
              0.4444444444444444,
              "#bd3786"
             ],
             [
              0.5555555555555556,
              "#d8576b"
             ],
             [
              0.6666666666666666,
              "#ed7953"
             ],
             [
              0.7777777777777778,
              "#fb9f3a"
             ],
             [
              0.8888888888888888,
              "#fdca26"
             ],
             [
              1.0,
              "#f0f921"
             ]
            ],
            "type": "heatmapgl"
           }
          ],
          "histogram": [
           {
            "marker": {
             "colorbar": {
              "outlinewidth": 0,
              "ticks": ""
             }
            },
            "type": "histogram"
           }
          ],
          "histogram2d": [
           {
            "colorbar": {
             "outlinewidth": 0,
             "ticks": ""
            },
            "colorscale": [
             [
              0.0,
              "#0d0887"
             ],
             [
              0.1111111111111111,
              "#46039f"
             ],
             [
              0.2222222222222222,
              "#7201a8"
             ],
             [
              0.3333333333333333,
              "#9c179e"
             ],
             [
              0.4444444444444444,
              "#bd3786"
             ],
             [
              0.5555555555555556,
              "#d8576b"
             ],
             [
              0.6666666666666666,
              "#ed7953"
             ],
             [
              0.7777777777777778,
              "#fb9f3a"
             ],
             [
              0.8888888888888888,
              "#fdca26"
             ],
             [
              1.0,
              "#f0f921"
             ]
            ],
            "type": "histogram2d"
           }
          ],
          "histogram2dcontour": [
           {
            "colorbar": {
             "outlinewidth": 0,
             "ticks": ""
            },
            "colorscale": [
             [
              0.0,
              "#0d0887"
             ],
             [
              0.1111111111111111,
              "#46039f"
             ],
             [
              0.2222222222222222,
              "#7201a8"
             ],
             [
              0.3333333333333333,
              "#9c179e"
             ],
             [
              0.4444444444444444,
              "#bd3786"
             ],
             [
              0.5555555555555556,
              "#d8576b"
             ],
             [
              0.6666666666666666,
              "#ed7953"
             ],
             [
              0.7777777777777778,
              "#fb9f3a"
             ],
             [
              0.8888888888888888,
              "#fdca26"
             ],
             [
              1.0,
              "#f0f921"
             ]
            ],
            "type": "histogram2dcontour"
           }
          ],
          "mesh3d": [
           {
            "colorbar": {
             "outlinewidth": 0,
             "ticks": ""
            },
            "type": "mesh3d"
           }
          ],
          "parcoords": [
           {
            "line": {
             "colorbar": {
              "outlinewidth": 0,
              "ticks": ""
             }
            },
            "type": "parcoords"
           }
          ],
          "pie": [
           {
            "automargin": true,
            "type": "pie"
           }
          ],
          "scatter": [
           {
            "marker": {
             "colorbar": {
              "outlinewidth": 0,
              "ticks": ""
             }
            },
            "type": "scatter"
           }
          ],
          "scatter3d": [
           {
            "line": {
             "colorbar": {
              "outlinewidth": 0,
              "ticks": ""
             }
            },
            "marker": {
             "colorbar": {
              "outlinewidth": 0,
              "ticks": ""
             }
            },
            "type": "scatter3d"
           }
          ],
          "scattercarpet": [
           {
            "marker": {
             "colorbar": {
              "outlinewidth": 0,
              "ticks": ""
             }
            },
            "type": "scattercarpet"
           }
          ],
          "scattergeo": [
           {
            "marker": {
             "colorbar": {
              "outlinewidth": 0,
              "ticks": ""
             }
            },
            "type": "scattergeo"
           }
          ],
          "scattergl": [
           {
            "marker": {
             "colorbar": {
              "outlinewidth": 0,
              "ticks": ""
             }
            },
            "type": "scattergl"
           }
          ],
          "scattermapbox": [
           {
            "marker": {
             "colorbar": {
              "outlinewidth": 0,
              "ticks": ""
             }
            },
            "type": "scattermapbox"
           }
          ],
          "scatterpolar": [
           {
            "marker": {
             "colorbar": {
              "outlinewidth": 0,
              "ticks": ""
             }
            },
            "type": "scatterpolar"
           }
          ],
          "scatterpolargl": [
           {
            "marker": {
             "colorbar": {
              "outlinewidth": 0,
              "ticks": ""
             }
            },
            "type": "scatterpolargl"
           }
          ],
          "scatterternary": [
           {
            "marker": {
             "colorbar": {
              "outlinewidth": 0,
              "ticks": ""
             }
            },
            "type": "scatterternary"
           }
          ],
          "surface": [
           {
            "colorbar": {
             "outlinewidth": 0,
             "ticks": ""
            },
            "colorscale": [
             [
              0.0,
              "#0d0887"
             ],
             [
              0.1111111111111111,
              "#46039f"
             ],
             [
              0.2222222222222222,
              "#7201a8"
             ],
             [
              0.3333333333333333,
              "#9c179e"
             ],
             [
              0.4444444444444444,
              "#bd3786"
             ],
             [
              0.5555555555555556,
              "#d8576b"
             ],
             [
              0.6666666666666666,
              "#ed7953"
             ],
             [
              0.7777777777777778,
              "#fb9f3a"
             ],
             [
              0.8888888888888888,
              "#fdca26"
             ],
             [
              1.0,
              "#f0f921"
             ]
            ],
            "type": "surface"
           }
          ],
          "table": [
           {
            "cells": {
             "fill": {
              "color": "#EBF0F8"
             },
             "line": {
              "color": "white"
             }
            },
            "header": {
             "fill": {
              "color": "#C8D4E3"
             },
             "line": {
              "color": "white"
             }
            },
            "type": "table"
           }
          ]
         },
         "layout": {
          "annotationdefaults": {
           "arrowcolor": "#2a3f5f",
           "arrowhead": 0,
           "arrowwidth": 1
          },
          "coloraxis": {
           "colorbar": {
            "outlinewidth": 0,
            "ticks": ""
           }
          },
          "colorscale": {
           "diverging": [
            [
             0,
             "#8e0152"
            ],
            [
             0.1,
             "#c51b7d"
            ],
            [
             0.2,
             "#de77ae"
            ],
            [
             0.3,
             "#f1b6da"
            ],
            [
             0.4,
             "#fde0ef"
            ],
            [
             0.5,
             "#f7f7f7"
            ],
            [
             0.6,
             "#e6f5d0"
            ],
            [
             0.7,
             "#b8e186"
            ],
            [
             0.8,
             "#7fbc41"
            ],
            [
             0.9,
             "#4d9221"
            ],
            [
             1,
             "#276419"
            ]
           ],
           "sequential": [
            [
             0.0,
             "#0d0887"
            ],
            [
             0.1111111111111111,
             "#46039f"
            ],
            [
             0.2222222222222222,
             "#7201a8"
            ],
            [
             0.3333333333333333,
             "#9c179e"
            ],
            [
             0.4444444444444444,
             "#bd3786"
            ],
            [
             0.5555555555555556,
             "#d8576b"
            ],
            [
             0.6666666666666666,
             "#ed7953"
            ],
            [
             0.7777777777777778,
             "#fb9f3a"
            ],
            [
             0.8888888888888888,
             "#fdca26"
            ],
            [
             1.0,
             "#f0f921"
            ]
           ],
           "sequentialminus": [
            [
             0.0,
             "#0d0887"
            ],
            [
             0.1111111111111111,
             "#46039f"
            ],
            [
             0.2222222222222222,
             "#7201a8"
            ],
            [
             0.3333333333333333,
             "#9c179e"
            ],
            [
             0.4444444444444444,
             "#bd3786"
            ],
            [
             0.5555555555555556,
             "#d8576b"
            ],
            [
             0.6666666666666666,
             "#ed7953"
            ],
            [
             0.7777777777777778,
             "#fb9f3a"
            ],
            [
             0.8888888888888888,
             "#fdca26"
            ],
            [
             1.0,
             "#f0f921"
            ]
           ]
          },
          "colorway": [
           "#636efa",
           "#EF553B",
           "#00cc96",
           "#ab63fa",
           "#FFA15A",
           "#19d3f3",
           "#FF6692",
           "#B6E880",
           "#FF97FF",
           "#FECB52"
          ],
          "font": {
           "color": "#2a3f5f"
          },
          "geo": {
           "bgcolor": "white",
           "lakecolor": "white",
           "landcolor": "#E5ECF6",
           "showlakes": true,
           "showland": true,
           "subunitcolor": "white"
          },
          "hoverlabel": {
           "align": "left"
          },
          "hovermode": "closest",
          "mapbox": {
           "style": "light"
          },
          "paper_bgcolor": "white",
          "plot_bgcolor": "#E5ECF6",
          "polar": {
           "angularaxis": {
            "gridcolor": "white",
            "linecolor": "white",
            "ticks": ""
           },
           "bgcolor": "#E5ECF6",
           "radialaxis": {
            "gridcolor": "white",
            "linecolor": "white",
            "ticks": ""
           }
          },
          "scene": {
           "xaxis": {
            "backgroundcolor": "#E5ECF6",
            "gridcolor": "white",
            "gridwidth": 2,
            "linecolor": "white",
            "showbackground": true,
            "ticks": "",
            "zerolinecolor": "white"
           },
           "yaxis": {
            "backgroundcolor": "#E5ECF6",
            "gridcolor": "white",
            "gridwidth": 2,
            "linecolor": "white",
            "showbackground": true,
            "ticks": "",
            "zerolinecolor": "white"
           },
           "zaxis": {
            "backgroundcolor": "#E5ECF6",
            "gridcolor": "white",
            "gridwidth": 2,
            "linecolor": "white",
            "showbackground": true,
            "ticks": "",
            "zerolinecolor": "white"
           }
          },
          "shapedefaults": {
           "line": {
            "color": "#2a3f5f"
           }
          },
          "ternary": {
           "aaxis": {
            "gridcolor": "white",
            "linecolor": "white",
            "ticks": ""
           },
           "baxis": {
            "gridcolor": "white",
            "linecolor": "white",
            "ticks": ""
           },
           "bgcolor": "#E5ECF6",
           "caxis": {
            "gridcolor": "white",
            "linecolor": "white",
            "ticks": ""
           }
          },
          "title": {
           "x": 0.05
          },
          "xaxis": {
           "automargin": true,
           "gridcolor": "white",
           "linecolor": "white",
           "ticks": "",
           "title": {
            "standoff": 15
           },
           "zerolinecolor": "white",
           "zerolinewidth": 2
          },
          "yaxis": {
           "automargin": true,
           "gridcolor": "white",
           "linecolor": "white",
           "ticks": "",
           "title": {
            "standoff": 15
           },
           "zerolinecolor": "white",
           "zerolinewidth": 2
          }
         }
        },
        "title": {
         "text": "Error dependency by N"
        },
        "xaxis": {
         "title": {
          "text": "N"
         }
        },
        "yaxis": {
         "exponentformat": "e",
         "title": {
          "text": "Error"
         },
         "type": "log"
        }
       }
      },
      "text/html": "<div>                            <div id=\"e3208c12-2e90-488b-ac8d-3df2f7549127\" class=\"plotly-graph-div\" style=\"height:525px; width:100%;\"></div>            <script type=\"text/javascript\">                require([\"plotly\"], function(Plotly) {                    window.PLOTLYENV=window.PLOTLYENV || {};                                    if (document.getElementById(\"e3208c12-2e90-488b-ac8d-3df2f7549127\")) {                    Plotly.newPlot(                        \"e3208c12-2e90-488b-ac8d-3df2f7549127\",                        [{\"mode\": \"lines+markers\", \"name\": \"solve_scipy\", \"type\": \"scatter\", \"x\": [50, 69, 88, 108, 127, 146, 166, 185, 205, 224, 243, 263, 282, 302, 321, 340, 360, 379, 398, 418, 437, 457, 476, 495, 515, 534, 554, 573, 592, 612, 631, 651, 670, 689, 709, 728, 747, 767, 786, 806, 825, 844, 864, 883, 903, 922, 941, 961, 980, 1000], \"y\": [8.702932925212435e-06, 5.412323339040618e-06, 3.7752876384580847e-06, 2.78546439116871e-06, 2.188888645358956e-06, 1.778539137174888e-06, 1.4688088886764635e-06, 1.2495998525465547e-06, 1.0721112326753383e-06, 9.392195090328535e-07, 8.316800758556609e-07, 7.389844151775617e-07, 6.658273078200768e-07, 6.010040882639935e-07, 5.486021964190406e-07, 5.033961447608699e-07, 4.621475859564853e-07, 4.279235382064285e-07, 3.977244340475735e-07, 3.6959036177299e-07, 3.4580436910536434e-07, 3.234026516422773e-07, 3.042735691876952e-07, 2.869585049501687e-07, 2.7043783325109895e-07, 2.5615982676496153e-07, 2.424390366062684e-07, 2.3050161541164196e-07, 2.1951282917165385e-07, 2.0885809497475178e-07, 1.9951052661971272e-07, 1.9040131468812357e-07, 1.8237164182444267e-07, 1.7489150205751848e-07, 1.6755344769437016e-07, 1.6104600117424307e-07, 1.5494928018763718e-07, 1.4893622891855163e-07, 1.4357489782510333e-07, 1.382712634725765e-07, 1.335274222018833e-07, 1.2904977435778874e-07, 1.2459997764911717e-07, 1.206045935421256e-07, 1.1662454346161438e-07, 1.1304164439087023e-07, 1.0963930937680929e-07, 1.0623791134650188e-07, 1.031668261185948e-07, 1.0009011504477472e-07]}, {\"mode\": \"lines+markers\", \"name\": \"solve_thomas\", \"type\": \"scatter\", \"x\": [50, 69, 88, 108, 127, 146, 166, 185, 205, 224, 243, 263, 282, 302, 321, 340, 360, 379, 398, 418, 437, 457, 476, 495, 515, 534, 554, 573, 592, 612, 631, 651, 670, 689, 709, 728, 747, 767, 786, 806, 825, 844, 864, 883, 903, 922, 941, 961, 980, 1000], \"y\": [8.702932925556952e-06, 5.4123233419371705e-06, 3.7752876371654192e-06, 2.785464389222257e-06, 2.1888886452993026e-06, 1.778539143603162e-06, 1.4688088865781028e-06, 1.2495998292752535e-06, 1.0721112239573484e-06, 9.392195185425147e-07, 8.316800895148488e-07, 7.389844043530477e-07, 6.658273481437801e-07, 6.010040399341172e-07, 5.48602292040997e-07, 5.033962274290388e-07, 4.6214762026725863e-07, 4.27923457420327e-07, 3.9772447092024884e-07, 3.695903551984014e-07, 3.458044720163663e-07, 3.2340262384427097e-07, 3.042735219401572e-07, 2.8695862327958303e-07, 2.704377189675359e-07, 2.5615989710940683e-07, 2.4243890528054413e-07, 2.305018393354322e-07, 2.195126411490848e-07, 2.0885803861266884e-07, 1.9951071973394937e-07, 1.904014389223492e-07, 1.8237186648821995e-07, 1.7489119186154226e-07, 1.6755363009276035e-07, 1.6104616228822411e-07, 1.5494923694458788e-07, 1.4893652265426958e-07, 1.4357532488730174e-07, 1.3827169238471784e-07, 1.3352787224763084e-07, 1.2904959866407534e-07, 1.2459985187291002e-07, 1.2060442360511156e-07, 1.1662495368216294e-07, 1.1304181153815194e-07, 1.0963914236407e-07, 1.0623782989272804e-07, 1.0316600899762533e-07, 1.0008994317648208e-07]}, {\"mode\": \"lines+markers\", \"name\": \"solve_scipy_band\", \"type\": \"scatter\", \"x\": [50, 69, 88, 108, 127, 146, 166, 185, 205, 224, 243, 263, 282, 302, 321, 340, 360, 379, 398, 418, 437, 457, 476, 495, 515, 534, 554, 573, 592, 612, 631, 651, 670, 689, 709, 728, 747, 767, 786, 806, 825, 844, 864, 883, 903, 922, 941, 961, 980, 1000], \"y\": [8.70293292549598e-06, 5.4123233418601515e-06, 3.7752876371804134e-06, 2.7854643889528107e-06, 2.188888645358956e-06, 1.7785391435396705e-06, 1.4688088864529963e-06, 1.2495998292955738e-06, 1.0721112239482295e-06, 9.392195185213075e-07, 8.316800894105319e-07, 7.389844043396342e-07, 6.65827347227635e-07, 6.010040402854845e-07, 5.486022917352113e-07, 5.033962279983209e-07, 4.621475968674461e-07, 4.279234575743793e-07, 3.977244708288843e-07, 3.6959035494009834e-07, 3.4580447183577964e-07, 3.234026232255289e-07, 3.042735226144377e-07, 2.86958623728367e-07, 2.7043771831044325e-07, 2.5615989740246795e-07, 2.4243890607828897e-07, 2.305018391861764e-07, 2.1951264125395846e-07, 2.0885803797240542e-07, 1.995107195461404e-07, 1.904014403236701e-07, 1.8237186574598202e-07, 1.7489119356005698e-07, 1.675536301279361e-07, 1.6104616353010465e-07, 1.549492370307735e-07, 1.489365223380425e-07, 1.435753241928112e-07, 1.382716932244628e-07, 1.3352787499685613e-07, 1.2904959540957388e-07, 1.2459985082230438e-07, 1.2060442337434358e-07, 1.1662495440546136e-07, 1.1304180992343832e-07, 1.0963914395610429e-07, 1.0623782906070504e-07, 1.0316600765269385e-07, 1.0008994315743147e-07]}],                        {\"template\": {\"data\": {\"bar\": [{\"error_x\": {\"color\": \"#2a3f5f\"}, \"error_y\": {\"color\": \"#2a3f5f\"}, \"marker\": {\"line\": {\"color\": \"#E5ECF6\", \"width\": 0.5}}, \"type\": \"bar\"}], \"barpolar\": [{\"marker\": {\"line\": {\"color\": \"#E5ECF6\", \"width\": 0.5}}, \"type\": \"barpolar\"}], \"carpet\": [{\"aaxis\": {\"endlinecolor\": \"#2a3f5f\", \"gridcolor\": \"white\", \"linecolor\": \"white\", \"minorgridcolor\": \"white\", \"startlinecolor\": \"#2a3f5f\"}, \"baxis\": {\"endlinecolor\": \"#2a3f5f\", \"gridcolor\": \"white\", \"linecolor\": \"white\", \"minorgridcolor\": \"white\", \"startlinecolor\": \"#2a3f5f\"}, \"type\": \"carpet\"}], \"choropleth\": [{\"colorbar\": {\"outlinewidth\": 0, \"ticks\": \"\"}, \"type\": \"choropleth\"}], \"contour\": [{\"colorbar\": {\"outlinewidth\": 0, \"ticks\": \"\"}, \"colorscale\": [[0.0, \"#0d0887\"], [0.1111111111111111, \"#46039f\"], [0.2222222222222222, \"#7201a8\"], [0.3333333333333333, \"#9c179e\"], [0.4444444444444444, \"#bd3786\"], [0.5555555555555556, \"#d8576b\"], [0.6666666666666666, \"#ed7953\"], [0.7777777777777778, \"#fb9f3a\"], [0.8888888888888888, \"#fdca26\"], [1.0, \"#f0f921\"]], \"type\": \"contour\"}], \"contourcarpet\": [{\"colorbar\": {\"outlinewidth\": 0, \"ticks\": \"\"}, \"type\": \"contourcarpet\"}], \"heatmap\": [{\"colorbar\": {\"outlinewidth\": 0, \"ticks\": \"\"}, \"colorscale\": [[0.0, \"#0d0887\"], [0.1111111111111111, \"#46039f\"], [0.2222222222222222, \"#7201a8\"], [0.3333333333333333, \"#9c179e\"], [0.4444444444444444, \"#bd3786\"], [0.5555555555555556, \"#d8576b\"], [0.6666666666666666, \"#ed7953\"], [0.7777777777777778, \"#fb9f3a\"], [0.8888888888888888, \"#fdca26\"], [1.0, \"#f0f921\"]], \"type\": \"heatmap\"}], \"heatmapgl\": [{\"colorbar\": {\"outlinewidth\": 0, \"ticks\": \"\"}, \"colorscale\": [[0.0, \"#0d0887\"], [0.1111111111111111, \"#46039f\"], [0.2222222222222222, \"#7201a8\"], [0.3333333333333333, \"#9c179e\"], [0.4444444444444444, \"#bd3786\"], [0.5555555555555556, \"#d8576b\"], [0.6666666666666666, \"#ed7953\"], [0.7777777777777778, \"#fb9f3a\"], [0.8888888888888888, \"#fdca26\"], [1.0, \"#f0f921\"]], \"type\": \"heatmapgl\"}], \"histogram\": [{\"marker\": {\"colorbar\": {\"outlinewidth\": 0, \"ticks\": \"\"}}, \"type\": \"histogram\"}], \"histogram2d\": [{\"colorbar\": {\"outlinewidth\": 0, \"ticks\": \"\"}, \"colorscale\": [[0.0, \"#0d0887\"], [0.1111111111111111, \"#46039f\"], [0.2222222222222222, \"#7201a8\"], [0.3333333333333333, \"#9c179e\"], [0.4444444444444444, \"#bd3786\"], [0.5555555555555556, \"#d8576b\"], [0.6666666666666666, \"#ed7953\"], [0.7777777777777778, \"#fb9f3a\"], [0.8888888888888888, \"#fdca26\"], [1.0, \"#f0f921\"]], \"type\": \"histogram2d\"}], \"histogram2dcontour\": [{\"colorbar\": {\"outlinewidth\": 0, \"ticks\": \"\"}, \"colorscale\": [[0.0, \"#0d0887\"], [0.1111111111111111, \"#46039f\"], [0.2222222222222222, \"#7201a8\"], [0.3333333333333333, \"#9c179e\"], [0.4444444444444444, \"#bd3786\"], [0.5555555555555556, \"#d8576b\"], [0.6666666666666666, \"#ed7953\"], [0.7777777777777778, \"#fb9f3a\"], [0.8888888888888888, \"#fdca26\"], [1.0, \"#f0f921\"]], \"type\": \"histogram2dcontour\"}], \"mesh3d\": [{\"colorbar\": {\"outlinewidth\": 0, \"ticks\": \"\"}, \"type\": \"mesh3d\"}], \"parcoords\": [{\"line\": {\"colorbar\": {\"outlinewidth\": 0, \"ticks\": \"\"}}, \"type\": \"parcoords\"}], \"pie\": [{\"automargin\": true, \"type\": \"pie\"}], \"scatter\": [{\"marker\": {\"colorbar\": {\"outlinewidth\": 0, \"ticks\": \"\"}}, \"type\": \"scatter\"}], \"scatter3d\": [{\"line\": {\"colorbar\": {\"outlinewidth\": 0, \"ticks\": \"\"}}, \"marker\": {\"colorbar\": {\"outlinewidth\": 0, \"ticks\": \"\"}}, \"type\": \"scatter3d\"}], \"scattercarpet\": [{\"marker\": {\"colorbar\": {\"outlinewidth\": 0, \"ticks\": \"\"}}, \"type\": \"scattercarpet\"}], \"scattergeo\": [{\"marker\": {\"colorbar\": {\"outlinewidth\": 0, \"ticks\": \"\"}}, \"type\": \"scattergeo\"}], \"scattergl\": [{\"marker\": {\"colorbar\": {\"outlinewidth\": 0, \"ticks\": \"\"}}, \"type\": \"scattergl\"}], \"scattermapbox\": [{\"marker\": {\"colorbar\": {\"outlinewidth\": 0, \"ticks\": \"\"}}, \"type\": \"scattermapbox\"}], \"scatterpolar\": [{\"marker\": {\"colorbar\": {\"outlinewidth\": 0, \"ticks\": \"\"}}, \"type\": \"scatterpolar\"}], \"scatterpolargl\": [{\"marker\": {\"colorbar\": {\"outlinewidth\": 0, \"ticks\": \"\"}}, \"type\": \"scatterpolargl\"}], \"scatterternary\": [{\"marker\": {\"colorbar\": {\"outlinewidth\": 0, \"ticks\": \"\"}}, \"type\": \"scatterternary\"}], \"surface\": [{\"colorbar\": {\"outlinewidth\": 0, \"ticks\": \"\"}, \"colorscale\": [[0.0, \"#0d0887\"], [0.1111111111111111, \"#46039f\"], [0.2222222222222222, \"#7201a8\"], [0.3333333333333333, \"#9c179e\"], [0.4444444444444444, \"#bd3786\"], [0.5555555555555556, \"#d8576b\"], [0.6666666666666666, \"#ed7953\"], [0.7777777777777778, \"#fb9f3a\"], [0.8888888888888888, \"#fdca26\"], [1.0, \"#f0f921\"]], \"type\": \"surface\"}], \"table\": [{\"cells\": {\"fill\": {\"color\": \"#EBF0F8\"}, \"line\": {\"color\": \"white\"}}, \"header\": {\"fill\": {\"color\": \"#C8D4E3\"}, \"line\": {\"color\": \"white\"}}, \"type\": \"table\"}]}, \"layout\": {\"annotationdefaults\": {\"arrowcolor\": \"#2a3f5f\", \"arrowhead\": 0, \"arrowwidth\": 1}, \"coloraxis\": {\"colorbar\": {\"outlinewidth\": 0, \"ticks\": \"\"}}, \"colorscale\": {\"diverging\": [[0, \"#8e0152\"], [0.1, \"#c51b7d\"], [0.2, \"#de77ae\"], [0.3, \"#f1b6da\"], [0.4, \"#fde0ef\"], [0.5, \"#f7f7f7\"], [0.6, \"#e6f5d0\"], [0.7, \"#b8e186\"], [0.8, \"#7fbc41\"], [0.9, \"#4d9221\"], [1, \"#276419\"]], \"sequential\": [[0.0, \"#0d0887\"], [0.1111111111111111, \"#46039f\"], [0.2222222222222222, \"#7201a8\"], [0.3333333333333333, \"#9c179e\"], [0.4444444444444444, \"#bd3786\"], [0.5555555555555556, \"#d8576b\"], [0.6666666666666666, \"#ed7953\"], [0.7777777777777778, \"#fb9f3a\"], [0.8888888888888888, \"#fdca26\"], [1.0, \"#f0f921\"]], \"sequentialminus\": [[0.0, \"#0d0887\"], [0.1111111111111111, \"#46039f\"], [0.2222222222222222, \"#7201a8\"], [0.3333333333333333, \"#9c179e\"], [0.4444444444444444, \"#bd3786\"], [0.5555555555555556, \"#d8576b\"], [0.6666666666666666, \"#ed7953\"], [0.7777777777777778, \"#fb9f3a\"], [0.8888888888888888, \"#fdca26\"], [1.0, \"#f0f921\"]]}, \"colorway\": [\"#636efa\", \"#EF553B\", \"#00cc96\", \"#ab63fa\", \"#FFA15A\", \"#19d3f3\", \"#FF6692\", \"#B6E880\", \"#FF97FF\", \"#FECB52\"], \"font\": {\"color\": \"#2a3f5f\"}, \"geo\": {\"bgcolor\": \"white\", \"lakecolor\": \"white\", \"landcolor\": \"#E5ECF6\", \"showlakes\": true, \"showland\": true, \"subunitcolor\": \"white\"}, \"hoverlabel\": {\"align\": \"left\"}, \"hovermode\": \"closest\", \"mapbox\": {\"style\": \"light\"}, \"paper_bgcolor\": \"white\", \"plot_bgcolor\": \"#E5ECF6\", \"polar\": {\"angularaxis\": {\"gridcolor\": \"white\", \"linecolor\": \"white\", \"ticks\": \"\"}, \"bgcolor\": \"#E5ECF6\", \"radialaxis\": {\"gridcolor\": \"white\", \"linecolor\": \"white\", \"ticks\": \"\"}}, \"scene\": {\"xaxis\": {\"backgroundcolor\": \"#E5ECF6\", \"gridcolor\": \"white\", \"gridwidth\": 2, \"linecolor\": \"white\", \"showbackground\": true, \"ticks\": \"\", \"zerolinecolor\": \"white\"}, \"yaxis\": {\"backgroundcolor\": \"#E5ECF6\", \"gridcolor\": \"white\", \"gridwidth\": 2, \"linecolor\": \"white\", \"showbackground\": true, \"ticks\": \"\", \"zerolinecolor\": \"white\"}, \"zaxis\": {\"backgroundcolor\": \"#E5ECF6\", \"gridcolor\": \"white\", \"gridwidth\": 2, \"linecolor\": \"white\", \"showbackground\": true, \"ticks\": \"\", \"zerolinecolor\": \"white\"}}, \"shapedefaults\": {\"line\": {\"color\": \"#2a3f5f\"}}, \"ternary\": {\"aaxis\": {\"gridcolor\": \"white\", \"linecolor\": \"white\", \"ticks\": \"\"}, \"baxis\": {\"gridcolor\": \"white\", \"linecolor\": \"white\", \"ticks\": \"\"}, \"bgcolor\": \"#E5ECF6\", \"caxis\": {\"gridcolor\": \"white\", \"linecolor\": \"white\", \"ticks\": \"\"}}, \"title\": {\"x\": 0.05}, \"xaxis\": {\"automargin\": true, \"gridcolor\": \"white\", \"linecolor\": \"white\", \"ticks\": \"\", \"title\": {\"standoff\": 15}, \"zerolinecolor\": \"white\", \"zerolinewidth\": 2}, \"yaxis\": {\"automargin\": true, \"gridcolor\": \"white\", \"linecolor\": \"white\", \"ticks\": \"\", \"title\": {\"standoff\": 15}, \"zerolinecolor\": \"white\", \"zerolinewidth\": 2}}}, \"title\": {\"text\": \"Error dependency by N\"}, \"xaxis\": {\"title\": {\"text\": \"N\"}}, \"yaxis\": {\"exponentformat\": \"e\", \"title\": {\"text\": \"Error\"}, \"type\": \"log\"}},                        {\"responsive\": true}                    ).then(function(){\n                            \nvar gd = document.getElementById('e3208c12-2e90-488b-ac8d-3df2f7549127');\nvar x = new MutationObserver(function (mutations, observer) {{\n        var display = window.getComputedStyle(gd).display;\n        if (!display || display === 'none') {{\n            console.log([gd, 'removed!']);\n            Plotly.purge(gd);\n            observer.disconnect();\n        }}\n}});\n\n// Listen for the removal of the full notebook cells\nvar notebookContainer = gd.closest('#notebook-container');\nif (notebookContainer) {{\n    x.observe(notebookContainer, {childList: true});\n}}\n\n// Listen for the clearing of the current output cell\nvar outputEl = gd.closest('.output');\nif (outputEl) {{\n    x.observe(outputEl, {childList: true});\n}}\n\n                        })                };                });            </script>        </div>"
     },
     "metadata": {},
     "output_type": "display_data"
    },
    {
     "data": {
      "application/vnd.plotly.v1+json": {
       "config": {
        "plotlyServerURL": "https://plot.ly"
       },
       "data": [
        {
         "mode": "lines+markers",
         "name": "solve_scipy",
         "type": "scatter",
         "x": [
          50,
          69,
          88,
          108,
          127,
          146,
          166,
          185,
          205,
          224,
          243,
          263,
          282,
          302,
          321,
          340,
          360,
          379,
          398,
          418,
          437,
          457,
          476,
          495,
          515,
          534,
          554,
          573,
          592,
          612,
          631,
          651,
          670,
          689,
          709,
          728,
          747,
          767,
          786,
          806,
          825,
          844,
          864,
          883,
          903,
          922,
          941,
          961,
          980,
          1000
         ],
         "y": [
          8.818838331434462E-5,
          8.724265628390842E-5,
          1.054525375366211E-4,
          1.5852186414930556E-4,
          1.6206370459662543E-4,
          2.3548338148328993E-4,
          2.6600890689425997E-4,
          3.134383095635308E-4,
          4.5029587215847437E-4,
          4.0775140126546224E-4,
          4.636420143975152E-4,
          5.095614327324761E-4,
          5.687740114000109E-4,
          7.311397128634983E-4,
          7.272269990709093E-4,
          9.569697909884982E-4,
          0.0010519822438557942,
          9.980943467881944E-4,
          0.0011041137907240126,
          0.0011726697285970053,
          0.0012553824318779839,
          0.0013158559799194337,
          0.0013773494296603732,
          0.0014939202202690972,
          0.0020064883761935766,
          0.001788065168592665,
          0.0018959177864922418,
          0.0020362827512953015,
          0.0027182896931966147,
          0.002463677194383409,
          0.0030270126130845813,
          0.0029025660620795356,
          0.0033691830105251736,
          0.0029772493574354384,
          0.0029534101486206055,
          0.00399329662322998,
          0.004276084899902344,
          0.004839491844177246,
          0.00543566279941135,
          0.005151677131652832,
          0.0055093526840209964,
          0.0070751349131266275,
          0.007141163614061144,
          0.009600453906589083,
          0.009230830934312609,
          0.009768393304612901,
          0.010342256228129069,
          0.011144770516289605,
          0.011130682627360026,
          0.012799509366353353
         ]
        },
        {
         "mode": "lines+markers",
         "name": "solve_thomas",
         "type": "scatter",
         "x": [
          50,
          69,
          88,
          108,
          127,
          146,
          166,
          185,
          205,
          224,
          243,
          263,
          282,
          302,
          321,
          340,
          360,
          379,
          398,
          418,
          437,
          457,
          476,
          495,
          515,
          534,
          554,
          573,
          592,
          612,
          631,
          651,
          670,
          689,
          709,
          728,
          747,
          767,
          786,
          806,
          825,
          844,
          864,
          883,
          903,
          922,
          941,
          961,
          980,
          1000
         ],
         "y": [
          1.2629032135009767E-4,
          1.4737447102864583E-4,
          1.793119642469618E-4,
          2.0818180508083768E-4,
          2.3042096032036675E-4,
          2.970907423231337E-4,
          3.042803870307075E-4,
          4.970709482828776E-4,
          4.4737921820746525E-4,
          4.5220586988661024E-4,
          4.5568148295084635E-4,
          4.7701199849446615E-4,
          6.157848570081922E-4,
          5.867322285970052E-4,
          6.565650304158529E-4,
          7.687224282158745E-4,
          7.12622536553277E-4,
          7.192055384318034E-4,
          7.61715571085612E-4,
          8.288674884372288E-4,
          8.538405100504558E-4,
          8.564657635158963E-4,
          8.62680541144477E-4,
          9.534041086832683E-4,
          9.850634468926323E-4,
          0.001019875208536784,
          0.0010702398088243273,
          0.0011205832163492838,
          0.0011348035600450303,
          0.0011930412716335721,
          0.001205640368991428,
          0.0012460099326239691,
          0.00124257935418023,
          0.0013004064559936524,
          0.0013479471206665039,
          0.0014056391186184354,
          0.00148519410027398,
          0.0014276610480414497,
          0.001509033309088813,
          0.0015648126602172852,
          0.0015557659996880426,
          0.0017504586113823784,
          0.0017652061250474718,
          0.0020359330707126195,
          0.001873583263821072,
          0.001871127552456326,
          0.001886039310031467,
          0.0019983079698350694,
          0.0020207034216986764,
          0.0020241048600938586
         ]
        },
        {
         "mode": "lines+markers",
         "name": "solve_scipy_band",
         "type": "scatter",
         "x": [
          50,
          69,
          88,
          108,
          127,
          146,
          166,
          185,
          205,
          224,
          243,
          263,
          282,
          302,
          321,
          340,
          360,
          379,
          398,
          418,
          437,
          457,
          476,
          495,
          515,
          534,
          554,
          573,
          592,
          612,
          631,
          651,
          670,
          689,
          709,
          728,
          747,
          767,
          786,
          806,
          825,
          844,
          864,
          883,
          903,
          922,
          941,
          961,
          980,
          1000
         ],
         "y": [
          2.7420785692003037E-5,
          1.9084082709418404E-5,
          1.888275146484375E-5,
          1.8058882819281683E-5,
          1.7031033833821615E-5,
          2.480347951253255E-5,
          1.8713209364149307E-5,
          5.752775404188368E-5,
          1.968012915717231E-5,
          1.9677480061848958E-5,
          2.2715992397732203E-5,
          2.0665592617458767E-5,
          2.2411346435546875E-5,
          2.1160973442925348E-5,
          3.025001949734158E-5,
          2.8416845533582898E-5,
          2.284579806857639E-5,
          2.4692217508951822E-5,
          2.3206075032552082E-5,
          2.4310747782389323E-5,
          2.3614035712348092E-5,
          2.3288196987575955E-5,
          2.349747551812066E-5,
          2.4268362257215712E-5,
          2.47955322265625E-5,
          2.463923560248481E-5,
          2.533594767252604E-5,
          2.5452507866753473E-5,
          2.6064448886447483E-5,
          2.6647249857584635E-5,
          2.624988555908203E-5,
          2.6914808485243055E-5,
          2.7325418260362414E-5,
          2.6949246724446614E-5,
          2.769629160563151E-5,
          2.7969148423936633E-5,
          2.793206108940972E-5,
          2.8093655904134113E-5,
          2.8403600056966147E-5,
          2.8559896681043837E-5,
          2.9277801513671874E-5,
          3.0459298027886286E-5,
          3.4578641255696614E-5,
          2.8628773159450956E-5,
          3.4877989027235244E-5,
          3.142091963026259E-5,
          3.089639875623915E-5,
          3.35693359375E-5,
          3.43481699625651E-5,
          3.384484185112847E-5
         ]
        }
       ],
       "layout": {
        "template": {
         "data": {
          "bar": [
           {
            "error_x": {
             "color": "#2a3f5f"
            },
            "error_y": {
             "color": "#2a3f5f"
            },
            "marker": {
             "line": {
              "color": "#E5ECF6",
              "width": 0.5
             }
            },
            "type": "bar"
           }
          ],
          "barpolar": [
           {
            "marker": {
             "line": {
              "color": "#E5ECF6",
              "width": 0.5
             }
            },
            "type": "barpolar"
           }
          ],
          "carpet": [
           {
            "aaxis": {
             "endlinecolor": "#2a3f5f",
             "gridcolor": "white",
             "linecolor": "white",
             "minorgridcolor": "white",
             "startlinecolor": "#2a3f5f"
            },
            "baxis": {
             "endlinecolor": "#2a3f5f",
             "gridcolor": "white",
             "linecolor": "white",
             "minorgridcolor": "white",
             "startlinecolor": "#2a3f5f"
            },
            "type": "carpet"
           }
          ],
          "choropleth": [
           {
            "colorbar": {
             "outlinewidth": 0,
             "ticks": ""
            },
            "type": "choropleth"
           }
          ],
          "contour": [
           {
            "colorbar": {
             "outlinewidth": 0,
             "ticks": ""
            },
            "colorscale": [
             [
              0.0,
              "#0d0887"
             ],
             [
              0.1111111111111111,
              "#46039f"
             ],
             [
              0.2222222222222222,
              "#7201a8"
             ],
             [
              0.3333333333333333,
              "#9c179e"
             ],
             [
              0.4444444444444444,
              "#bd3786"
             ],
             [
              0.5555555555555556,
              "#d8576b"
             ],
             [
              0.6666666666666666,
              "#ed7953"
             ],
             [
              0.7777777777777778,
              "#fb9f3a"
             ],
             [
              0.8888888888888888,
              "#fdca26"
             ],
             [
              1.0,
              "#f0f921"
             ]
            ],
            "type": "contour"
           }
          ],
          "contourcarpet": [
           {
            "colorbar": {
             "outlinewidth": 0,
             "ticks": ""
            },
            "type": "contourcarpet"
           }
          ],
          "heatmap": [
           {
            "colorbar": {
             "outlinewidth": 0,
             "ticks": ""
            },
            "colorscale": [
             [
              0.0,
              "#0d0887"
             ],
             [
              0.1111111111111111,
              "#46039f"
             ],
             [
              0.2222222222222222,
              "#7201a8"
             ],
             [
              0.3333333333333333,
              "#9c179e"
             ],
             [
              0.4444444444444444,
              "#bd3786"
             ],
             [
              0.5555555555555556,
              "#d8576b"
             ],
             [
              0.6666666666666666,
              "#ed7953"
             ],
             [
              0.7777777777777778,
              "#fb9f3a"
             ],
             [
              0.8888888888888888,
              "#fdca26"
             ],
             [
              1.0,
              "#f0f921"
             ]
            ],
            "type": "heatmap"
           }
          ],
          "heatmapgl": [
           {
            "colorbar": {
             "outlinewidth": 0,
             "ticks": ""
            },
            "colorscale": [
             [
              0.0,
              "#0d0887"
             ],
             [
              0.1111111111111111,
              "#46039f"
             ],
             [
              0.2222222222222222,
              "#7201a8"
             ],
             [
              0.3333333333333333,
              "#9c179e"
             ],
             [
              0.4444444444444444,
              "#bd3786"
             ],
             [
              0.5555555555555556,
              "#d8576b"
             ],
             [
              0.6666666666666666,
              "#ed7953"
             ],
             [
              0.7777777777777778,
              "#fb9f3a"
             ],
             [
              0.8888888888888888,
              "#fdca26"
             ],
             [
              1.0,
              "#f0f921"
             ]
            ],
            "type": "heatmapgl"
           }
          ],
          "histogram": [
           {
            "marker": {
             "colorbar": {
              "outlinewidth": 0,
              "ticks": ""
             }
            },
            "type": "histogram"
           }
          ],
          "histogram2d": [
           {
            "colorbar": {
             "outlinewidth": 0,
             "ticks": ""
            },
            "colorscale": [
             [
              0.0,
              "#0d0887"
             ],
             [
              0.1111111111111111,
              "#46039f"
             ],
             [
              0.2222222222222222,
              "#7201a8"
             ],
             [
              0.3333333333333333,
              "#9c179e"
             ],
             [
              0.4444444444444444,
              "#bd3786"
             ],
             [
              0.5555555555555556,
              "#d8576b"
             ],
             [
              0.6666666666666666,
              "#ed7953"
             ],
             [
              0.7777777777777778,
              "#fb9f3a"
             ],
             [
              0.8888888888888888,
              "#fdca26"
             ],
             [
              1.0,
              "#f0f921"
             ]
            ],
            "type": "histogram2d"
           }
          ],
          "histogram2dcontour": [
           {
            "colorbar": {
             "outlinewidth": 0,
             "ticks": ""
            },
            "colorscale": [
             [
              0.0,
              "#0d0887"
             ],
             [
              0.1111111111111111,
              "#46039f"
             ],
             [
              0.2222222222222222,
              "#7201a8"
             ],
             [
              0.3333333333333333,
              "#9c179e"
             ],
             [
              0.4444444444444444,
              "#bd3786"
             ],
             [
              0.5555555555555556,
              "#d8576b"
             ],
             [
              0.6666666666666666,
              "#ed7953"
             ],
             [
              0.7777777777777778,
              "#fb9f3a"
             ],
             [
              0.8888888888888888,
              "#fdca26"
             ],
             [
              1.0,
              "#f0f921"
             ]
            ],
            "type": "histogram2dcontour"
           }
          ],
          "mesh3d": [
           {
            "colorbar": {
             "outlinewidth": 0,
             "ticks": ""
            },
            "type": "mesh3d"
           }
          ],
          "parcoords": [
           {
            "line": {
             "colorbar": {
              "outlinewidth": 0,
              "ticks": ""
             }
            },
            "type": "parcoords"
           }
          ],
          "pie": [
           {
            "automargin": true,
            "type": "pie"
           }
          ],
          "scatter": [
           {
            "marker": {
             "colorbar": {
              "outlinewidth": 0,
              "ticks": ""
             }
            },
            "type": "scatter"
           }
          ],
          "scatter3d": [
           {
            "line": {
             "colorbar": {
              "outlinewidth": 0,
              "ticks": ""
             }
            },
            "marker": {
             "colorbar": {
              "outlinewidth": 0,
              "ticks": ""
             }
            },
            "type": "scatter3d"
           }
          ],
          "scattercarpet": [
           {
            "marker": {
             "colorbar": {
              "outlinewidth": 0,
              "ticks": ""
             }
            },
            "type": "scattercarpet"
           }
          ],
          "scattergeo": [
           {
            "marker": {
             "colorbar": {
              "outlinewidth": 0,
              "ticks": ""
             }
            },
            "type": "scattergeo"
           }
          ],
          "scattergl": [
           {
            "marker": {
             "colorbar": {
              "outlinewidth": 0,
              "ticks": ""
             }
            },
            "type": "scattergl"
           }
          ],
          "scattermapbox": [
           {
            "marker": {
             "colorbar": {
              "outlinewidth": 0,
              "ticks": ""
             }
            },
            "type": "scattermapbox"
           }
          ],
          "scatterpolar": [
           {
            "marker": {
             "colorbar": {
              "outlinewidth": 0,
              "ticks": ""
             }
            },
            "type": "scatterpolar"
           }
          ],
          "scatterpolargl": [
           {
            "marker": {
             "colorbar": {
              "outlinewidth": 0,
              "ticks": ""
             }
            },
            "type": "scatterpolargl"
           }
          ],
          "scatterternary": [
           {
            "marker": {
             "colorbar": {
              "outlinewidth": 0,
              "ticks": ""
             }
            },
            "type": "scatterternary"
           }
          ],
          "surface": [
           {
            "colorbar": {
             "outlinewidth": 0,
             "ticks": ""
            },
            "colorscale": [
             [
              0.0,
              "#0d0887"
             ],
             [
              0.1111111111111111,
              "#46039f"
             ],
             [
              0.2222222222222222,
              "#7201a8"
             ],
             [
              0.3333333333333333,
              "#9c179e"
             ],
             [
              0.4444444444444444,
              "#bd3786"
             ],
             [
              0.5555555555555556,
              "#d8576b"
             ],
             [
              0.6666666666666666,
              "#ed7953"
             ],
             [
              0.7777777777777778,
              "#fb9f3a"
             ],
             [
              0.8888888888888888,
              "#fdca26"
             ],
             [
              1.0,
              "#f0f921"
             ]
            ],
            "type": "surface"
           }
          ],
          "table": [
           {
            "cells": {
             "fill": {
              "color": "#EBF0F8"
             },
             "line": {
              "color": "white"
             }
            },
            "header": {
             "fill": {
              "color": "#C8D4E3"
             },
             "line": {
              "color": "white"
             }
            },
            "type": "table"
           }
          ]
         },
         "layout": {
          "annotationdefaults": {
           "arrowcolor": "#2a3f5f",
           "arrowhead": 0,
           "arrowwidth": 1
          },
          "coloraxis": {
           "colorbar": {
            "outlinewidth": 0,
            "ticks": ""
           }
          },
          "colorscale": {
           "diverging": [
            [
             0,
             "#8e0152"
            ],
            [
             0.1,
             "#c51b7d"
            ],
            [
             0.2,
             "#de77ae"
            ],
            [
             0.3,
             "#f1b6da"
            ],
            [
             0.4,
             "#fde0ef"
            ],
            [
             0.5,
             "#f7f7f7"
            ],
            [
             0.6,
             "#e6f5d0"
            ],
            [
             0.7,
             "#b8e186"
            ],
            [
             0.8,
             "#7fbc41"
            ],
            [
             0.9,
             "#4d9221"
            ],
            [
             1,
             "#276419"
            ]
           ],
           "sequential": [
            [
             0.0,
             "#0d0887"
            ],
            [
             0.1111111111111111,
             "#46039f"
            ],
            [
             0.2222222222222222,
             "#7201a8"
            ],
            [
             0.3333333333333333,
             "#9c179e"
            ],
            [
             0.4444444444444444,
             "#bd3786"
            ],
            [
             0.5555555555555556,
             "#d8576b"
            ],
            [
             0.6666666666666666,
             "#ed7953"
            ],
            [
             0.7777777777777778,
             "#fb9f3a"
            ],
            [
             0.8888888888888888,
             "#fdca26"
            ],
            [
             1.0,
             "#f0f921"
            ]
           ],
           "sequentialminus": [
            [
             0.0,
             "#0d0887"
            ],
            [
             0.1111111111111111,
             "#46039f"
            ],
            [
             0.2222222222222222,
             "#7201a8"
            ],
            [
             0.3333333333333333,
             "#9c179e"
            ],
            [
             0.4444444444444444,
             "#bd3786"
            ],
            [
             0.5555555555555556,
             "#d8576b"
            ],
            [
             0.6666666666666666,
             "#ed7953"
            ],
            [
             0.7777777777777778,
             "#fb9f3a"
            ],
            [
             0.8888888888888888,
             "#fdca26"
            ],
            [
             1.0,
             "#f0f921"
            ]
           ]
          },
          "colorway": [
           "#636efa",
           "#EF553B",
           "#00cc96",
           "#ab63fa",
           "#FFA15A",
           "#19d3f3",
           "#FF6692",
           "#B6E880",
           "#FF97FF",
           "#FECB52"
          ],
          "font": {
           "color": "#2a3f5f"
          },
          "geo": {
           "bgcolor": "white",
           "lakecolor": "white",
           "landcolor": "#E5ECF6",
           "showlakes": true,
           "showland": true,
           "subunitcolor": "white"
          },
          "hoverlabel": {
           "align": "left"
          },
          "hovermode": "closest",
          "mapbox": {
           "style": "light"
          },
          "paper_bgcolor": "white",
          "plot_bgcolor": "#E5ECF6",
          "polar": {
           "angularaxis": {
            "gridcolor": "white",
            "linecolor": "white",
            "ticks": ""
           },
           "bgcolor": "#E5ECF6",
           "radialaxis": {
            "gridcolor": "white",
            "linecolor": "white",
            "ticks": ""
           }
          },
          "scene": {
           "xaxis": {
            "backgroundcolor": "#E5ECF6",
            "gridcolor": "white",
            "gridwidth": 2,
            "linecolor": "white",
            "showbackground": true,
            "ticks": "",
            "zerolinecolor": "white"
           },
           "yaxis": {
            "backgroundcolor": "#E5ECF6",
            "gridcolor": "white",
            "gridwidth": 2,
            "linecolor": "white",
            "showbackground": true,
            "ticks": "",
            "zerolinecolor": "white"
           },
           "zaxis": {
            "backgroundcolor": "#E5ECF6",
            "gridcolor": "white",
            "gridwidth": 2,
            "linecolor": "white",
            "showbackground": true,
            "ticks": "",
            "zerolinecolor": "white"
           }
          },
          "shapedefaults": {
           "line": {
            "color": "#2a3f5f"
           }
          },
          "ternary": {
           "aaxis": {
            "gridcolor": "white",
            "linecolor": "white",
            "ticks": ""
           },
           "baxis": {
            "gridcolor": "white",
            "linecolor": "white",
            "ticks": ""
           },
           "bgcolor": "#E5ECF6",
           "caxis": {
            "gridcolor": "white",
            "linecolor": "white",
            "ticks": ""
           }
          },
          "title": {
           "x": 0.05
          },
          "xaxis": {
           "automargin": true,
           "gridcolor": "white",
           "linecolor": "white",
           "ticks": "",
           "title": {
            "standoff": 15
           },
           "zerolinecolor": "white",
           "zerolinewidth": 2
          },
          "yaxis": {
           "automargin": true,
           "gridcolor": "white",
           "linecolor": "white",
           "ticks": "",
           "title": {
            "standoff": 15
           },
           "zerolinecolor": "white",
           "zerolinewidth": 2
          }
         }
        },
        "title": {
         "text": "Time dependency by N"
        },
        "xaxis": {
         "title": {
          "text": "N"
         }
        },
        "yaxis": {
         "title": {
          "text": "Time"
         }
        }
       }
      },
      "text/html": "<div>                            <div id=\"ed007b18-b630-4a6d-ba94-335d743fc259\" class=\"plotly-graph-div\" style=\"height:525px; width:100%;\"></div>            <script type=\"text/javascript\">                require([\"plotly\"], function(Plotly) {                    window.PLOTLYENV=window.PLOTLYENV || {};                                    if (document.getElementById(\"ed007b18-b630-4a6d-ba94-335d743fc259\")) {                    Plotly.newPlot(                        \"ed007b18-b630-4a6d-ba94-335d743fc259\",                        [{\"mode\": \"lines+markers\", \"name\": \"solve_scipy\", \"type\": \"scatter\", \"x\": [50, 69, 88, 108, 127, 146, 166, 185, 205, 224, 243, 263, 282, 302, 321, 340, 360, 379, 398, 418, 437, 457, 476, 495, 515, 534, 554, 573, 592, 612, 631, 651, 670, 689, 709, 728, 747, 767, 786, 806, 825, 844, 864, 883, 903, 922, 941, 961, 980, 1000], \"y\": [8.818838331434462e-05, 8.724265628390842e-05, 0.0001054525375366211, 0.00015852186414930556, 0.00016206370459662543, 0.00023548338148328993, 0.00026600890689425997, 0.0003134383095635308, 0.00045029587215847437, 0.00040775140126546224, 0.0004636420143975152, 0.0005095614327324761, 0.0005687740114000109, 0.0007311397128634983, 0.0007272269990709093, 0.0009569697909884982, 0.0010519822438557942, 0.0009980943467881944, 0.0011041137907240126, 0.0011726697285970053, 0.0012553824318779839, 0.0013158559799194337, 0.0013773494296603732, 0.0014939202202690972, 0.0020064883761935766, 0.001788065168592665, 0.0018959177864922418, 0.0020362827512953015, 0.0027182896931966147, 0.002463677194383409, 0.0030270126130845813, 0.0029025660620795356, 0.0033691830105251736, 0.0029772493574354384, 0.0029534101486206055, 0.00399329662322998, 0.004276084899902344, 0.004839491844177246, 0.00543566279941135, 0.005151677131652832, 0.0055093526840209964, 0.0070751349131266275, 0.007141163614061144, 0.009600453906589083, 0.009230830934312609, 0.009768393304612901, 0.010342256228129069, 0.011144770516289605, 0.011130682627360026, 0.012799509366353353]}, {\"mode\": \"lines+markers\", \"name\": \"solve_thomas\", \"type\": \"scatter\", \"x\": [50, 69, 88, 108, 127, 146, 166, 185, 205, 224, 243, 263, 282, 302, 321, 340, 360, 379, 398, 418, 437, 457, 476, 495, 515, 534, 554, 573, 592, 612, 631, 651, 670, 689, 709, 728, 747, 767, 786, 806, 825, 844, 864, 883, 903, 922, 941, 961, 980, 1000], \"y\": [0.00012629032135009767, 0.00014737447102864583, 0.0001793119642469618, 0.00020818180508083768, 0.00023042096032036675, 0.0002970907423231337, 0.0003042803870307075, 0.0004970709482828776, 0.00044737921820746525, 0.00045220586988661024, 0.00045568148295084635, 0.00047701199849446615, 0.0006157848570081922, 0.0005867322285970052, 0.0006565650304158529, 0.0007687224282158745, 0.000712622536553277, 0.0007192055384318034, 0.000761715571085612, 0.0008288674884372288, 0.0008538405100504558, 0.0008564657635158963, 0.000862680541144477, 0.0009534041086832683, 0.0009850634468926323, 0.001019875208536784, 0.0010702398088243273, 0.0011205832163492838, 0.0011348035600450303, 0.0011930412716335721, 0.001205640368991428, 0.0012460099326239691, 0.00124257935418023, 0.0013004064559936524, 0.0013479471206665039, 0.0014056391186184354, 0.00148519410027398, 0.0014276610480414497, 0.001509033309088813, 0.0015648126602172852, 0.0015557659996880426, 0.0017504586113823784, 0.0017652061250474718, 0.0020359330707126195, 0.001873583263821072, 0.001871127552456326, 0.001886039310031467, 0.0019983079698350694, 0.0020207034216986764, 0.0020241048600938586]}, {\"mode\": \"lines+markers\", \"name\": \"solve_scipy_band\", \"type\": \"scatter\", \"x\": [50, 69, 88, 108, 127, 146, 166, 185, 205, 224, 243, 263, 282, 302, 321, 340, 360, 379, 398, 418, 437, 457, 476, 495, 515, 534, 554, 573, 592, 612, 631, 651, 670, 689, 709, 728, 747, 767, 786, 806, 825, 844, 864, 883, 903, 922, 941, 961, 980, 1000], \"y\": [2.7420785692003037e-05, 1.9084082709418404e-05, 1.888275146484375e-05, 1.8058882819281683e-05, 1.7031033833821615e-05, 2.480347951253255e-05, 1.8713209364149307e-05, 5.752775404188368e-05, 1.968012915717231e-05, 1.9677480061848958e-05, 2.2715992397732203e-05, 2.0665592617458767e-05, 2.2411346435546875e-05, 2.1160973442925348e-05, 3.025001949734158e-05, 2.8416845533582898e-05, 2.284579806857639e-05, 2.4692217508951822e-05, 2.3206075032552082e-05, 2.4310747782389323e-05, 2.3614035712348092e-05, 2.3288196987575955e-05, 2.349747551812066e-05, 2.4268362257215712e-05, 2.47955322265625e-05, 2.463923560248481e-05, 2.533594767252604e-05, 2.5452507866753473e-05, 2.6064448886447483e-05, 2.6647249857584635e-05, 2.624988555908203e-05, 2.6914808485243055e-05, 2.7325418260362414e-05, 2.6949246724446614e-05, 2.769629160563151e-05, 2.7969148423936633e-05, 2.793206108940972e-05, 2.8093655904134113e-05, 2.8403600056966147e-05, 2.8559896681043837e-05, 2.9277801513671874e-05, 3.0459298027886286e-05, 3.4578641255696614e-05, 2.8628773159450956e-05, 3.4877989027235244e-05, 3.142091963026259e-05, 3.089639875623915e-05, 3.35693359375e-05, 3.43481699625651e-05, 3.384484185112847e-05]}],                        {\"template\": {\"data\": {\"bar\": [{\"error_x\": {\"color\": \"#2a3f5f\"}, \"error_y\": {\"color\": \"#2a3f5f\"}, \"marker\": {\"line\": {\"color\": \"#E5ECF6\", \"width\": 0.5}}, \"type\": \"bar\"}], \"barpolar\": [{\"marker\": {\"line\": {\"color\": \"#E5ECF6\", \"width\": 0.5}}, \"type\": \"barpolar\"}], \"carpet\": [{\"aaxis\": {\"endlinecolor\": \"#2a3f5f\", \"gridcolor\": \"white\", \"linecolor\": \"white\", \"minorgridcolor\": \"white\", \"startlinecolor\": \"#2a3f5f\"}, \"baxis\": {\"endlinecolor\": \"#2a3f5f\", \"gridcolor\": \"white\", \"linecolor\": \"white\", \"minorgridcolor\": \"white\", \"startlinecolor\": \"#2a3f5f\"}, \"type\": \"carpet\"}], \"choropleth\": [{\"colorbar\": {\"outlinewidth\": 0, \"ticks\": \"\"}, \"type\": \"choropleth\"}], \"contour\": [{\"colorbar\": {\"outlinewidth\": 0, \"ticks\": \"\"}, \"colorscale\": [[0.0, \"#0d0887\"], [0.1111111111111111, \"#46039f\"], [0.2222222222222222, \"#7201a8\"], [0.3333333333333333, \"#9c179e\"], [0.4444444444444444, \"#bd3786\"], [0.5555555555555556, \"#d8576b\"], [0.6666666666666666, \"#ed7953\"], [0.7777777777777778, \"#fb9f3a\"], [0.8888888888888888, \"#fdca26\"], [1.0, \"#f0f921\"]], \"type\": \"contour\"}], \"contourcarpet\": [{\"colorbar\": {\"outlinewidth\": 0, \"ticks\": \"\"}, \"type\": \"contourcarpet\"}], \"heatmap\": [{\"colorbar\": {\"outlinewidth\": 0, \"ticks\": \"\"}, \"colorscale\": [[0.0, \"#0d0887\"], [0.1111111111111111, \"#46039f\"], [0.2222222222222222, \"#7201a8\"], [0.3333333333333333, \"#9c179e\"], [0.4444444444444444, \"#bd3786\"], [0.5555555555555556, \"#d8576b\"], [0.6666666666666666, \"#ed7953\"], [0.7777777777777778, \"#fb9f3a\"], [0.8888888888888888, \"#fdca26\"], [1.0, \"#f0f921\"]], \"type\": \"heatmap\"}], \"heatmapgl\": [{\"colorbar\": {\"outlinewidth\": 0, \"ticks\": \"\"}, \"colorscale\": [[0.0, \"#0d0887\"], [0.1111111111111111, \"#46039f\"], [0.2222222222222222, \"#7201a8\"], [0.3333333333333333, \"#9c179e\"], [0.4444444444444444, \"#bd3786\"], [0.5555555555555556, \"#d8576b\"], [0.6666666666666666, \"#ed7953\"], [0.7777777777777778, \"#fb9f3a\"], [0.8888888888888888, \"#fdca26\"], [1.0, \"#f0f921\"]], \"type\": \"heatmapgl\"}], \"histogram\": [{\"marker\": {\"colorbar\": {\"outlinewidth\": 0, \"ticks\": \"\"}}, \"type\": \"histogram\"}], \"histogram2d\": [{\"colorbar\": {\"outlinewidth\": 0, \"ticks\": \"\"}, \"colorscale\": [[0.0, \"#0d0887\"], [0.1111111111111111, \"#46039f\"], [0.2222222222222222, \"#7201a8\"], [0.3333333333333333, \"#9c179e\"], [0.4444444444444444, \"#bd3786\"], [0.5555555555555556, \"#d8576b\"], [0.6666666666666666, \"#ed7953\"], [0.7777777777777778, \"#fb9f3a\"], [0.8888888888888888, \"#fdca26\"], [1.0, \"#f0f921\"]], \"type\": \"histogram2d\"}], \"histogram2dcontour\": [{\"colorbar\": {\"outlinewidth\": 0, \"ticks\": \"\"}, \"colorscale\": [[0.0, \"#0d0887\"], [0.1111111111111111, \"#46039f\"], [0.2222222222222222, \"#7201a8\"], [0.3333333333333333, \"#9c179e\"], [0.4444444444444444, \"#bd3786\"], [0.5555555555555556, \"#d8576b\"], [0.6666666666666666, \"#ed7953\"], [0.7777777777777778, \"#fb9f3a\"], [0.8888888888888888, \"#fdca26\"], [1.0, \"#f0f921\"]], \"type\": \"histogram2dcontour\"}], \"mesh3d\": [{\"colorbar\": {\"outlinewidth\": 0, \"ticks\": \"\"}, \"type\": \"mesh3d\"}], \"parcoords\": [{\"line\": {\"colorbar\": {\"outlinewidth\": 0, \"ticks\": \"\"}}, \"type\": \"parcoords\"}], \"pie\": [{\"automargin\": true, \"type\": \"pie\"}], \"scatter\": [{\"marker\": {\"colorbar\": {\"outlinewidth\": 0, \"ticks\": \"\"}}, \"type\": \"scatter\"}], \"scatter3d\": [{\"line\": {\"colorbar\": {\"outlinewidth\": 0, \"ticks\": \"\"}}, \"marker\": {\"colorbar\": {\"outlinewidth\": 0, \"ticks\": \"\"}}, \"type\": \"scatter3d\"}], \"scattercarpet\": [{\"marker\": {\"colorbar\": {\"outlinewidth\": 0, \"ticks\": \"\"}}, \"type\": \"scattercarpet\"}], \"scattergeo\": [{\"marker\": {\"colorbar\": {\"outlinewidth\": 0, \"ticks\": \"\"}}, \"type\": \"scattergeo\"}], \"scattergl\": [{\"marker\": {\"colorbar\": {\"outlinewidth\": 0, \"ticks\": \"\"}}, \"type\": \"scattergl\"}], \"scattermapbox\": [{\"marker\": {\"colorbar\": {\"outlinewidth\": 0, \"ticks\": \"\"}}, \"type\": \"scattermapbox\"}], \"scatterpolar\": [{\"marker\": {\"colorbar\": {\"outlinewidth\": 0, \"ticks\": \"\"}}, \"type\": \"scatterpolar\"}], \"scatterpolargl\": [{\"marker\": {\"colorbar\": {\"outlinewidth\": 0, \"ticks\": \"\"}}, \"type\": \"scatterpolargl\"}], \"scatterternary\": [{\"marker\": {\"colorbar\": {\"outlinewidth\": 0, \"ticks\": \"\"}}, \"type\": \"scatterternary\"}], \"surface\": [{\"colorbar\": {\"outlinewidth\": 0, \"ticks\": \"\"}, \"colorscale\": [[0.0, \"#0d0887\"], [0.1111111111111111, \"#46039f\"], [0.2222222222222222, \"#7201a8\"], [0.3333333333333333, \"#9c179e\"], [0.4444444444444444, \"#bd3786\"], [0.5555555555555556, \"#d8576b\"], [0.6666666666666666, \"#ed7953\"], [0.7777777777777778, \"#fb9f3a\"], [0.8888888888888888, \"#fdca26\"], [1.0, \"#f0f921\"]], \"type\": \"surface\"}], \"table\": [{\"cells\": {\"fill\": {\"color\": \"#EBF0F8\"}, \"line\": {\"color\": \"white\"}}, \"header\": {\"fill\": {\"color\": \"#C8D4E3\"}, \"line\": {\"color\": \"white\"}}, \"type\": \"table\"}]}, \"layout\": {\"annotationdefaults\": {\"arrowcolor\": \"#2a3f5f\", \"arrowhead\": 0, \"arrowwidth\": 1}, \"coloraxis\": {\"colorbar\": {\"outlinewidth\": 0, \"ticks\": \"\"}}, \"colorscale\": {\"diverging\": [[0, \"#8e0152\"], [0.1, \"#c51b7d\"], [0.2, \"#de77ae\"], [0.3, \"#f1b6da\"], [0.4, \"#fde0ef\"], [0.5, \"#f7f7f7\"], [0.6, \"#e6f5d0\"], [0.7, \"#b8e186\"], [0.8, \"#7fbc41\"], [0.9, \"#4d9221\"], [1, \"#276419\"]], \"sequential\": [[0.0, \"#0d0887\"], [0.1111111111111111, \"#46039f\"], [0.2222222222222222, \"#7201a8\"], [0.3333333333333333, \"#9c179e\"], [0.4444444444444444, \"#bd3786\"], [0.5555555555555556, \"#d8576b\"], [0.6666666666666666, \"#ed7953\"], [0.7777777777777778, \"#fb9f3a\"], [0.8888888888888888, \"#fdca26\"], [1.0, \"#f0f921\"]], \"sequentialminus\": [[0.0, \"#0d0887\"], [0.1111111111111111, \"#46039f\"], [0.2222222222222222, \"#7201a8\"], [0.3333333333333333, \"#9c179e\"], [0.4444444444444444, \"#bd3786\"], [0.5555555555555556, \"#d8576b\"], [0.6666666666666666, \"#ed7953\"], [0.7777777777777778, \"#fb9f3a\"], [0.8888888888888888, \"#fdca26\"], [1.0, \"#f0f921\"]]}, \"colorway\": [\"#636efa\", \"#EF553B\", \"#00cc96\", \"#ab63fa\", \"#FFA15A\", \"#19d3f3\", \"#FF6692\", \"#B6E880\", \"#FF97FF\", \"#FECB52\"], \"font\": {\"color\": \"#2a3f5f\"}, \"geo\": {\"bgcolor\": \"white\", \"lakecolor\": \"white\", \"landcolor\": \"#E5ECF6\", \"showlakes\": true, \"showland\": true, \"subunitcolor\": \"white\"}, \"hoverlabel\": {\"align\": \"left\"}, \"hovermode\": \"closest\", \"mapbox\": {\"style\": \"light\"}, \"paper_bgcolor\": \"white\", \"plot_bgcolor\": \"#E5ECF6\", \"polar\": {\"angularaxis\": {\"gridcolor\": \"white\", \"linecolor\": \"white\", \"ticks\": \"\"}, \"bgcolor\": \"#E5ECF6\", \"radialaxis\": {\"gridcolor\": \"white\", \"linecolor\": \"white\", \"ticks\": \"\"}}, \"scene\": {\"xaxis\": {\"backgroundcolor\": \"#E5ECF6\", \"gridcolor\": \"white\", \"gridwidth\": 2, \"linecolor\": \"white\", \"showbackground\": true, \"ticks\": \"\", \"zerolinecolor\": \"white\"}, \"yaxis\": {\"backgroundcolor\": \"#E5ECF6\", \"gridcolor\": \"white\", \"gridwidth\": 2, \"linecolor\": \"white\", \"showbackground\": true, \"ticks\": \"\", \"zerolinecolor\": \"white\"}, \"zaxis\": {\"backgroundcolor\": \"#E5ECF6\", \"gridcolor\": \"white\", \"gridwidth\": 2, \"linecolor\": \"white\", \"showbackground\": true, \"ticks\": \"\", \"zerolinecolor\": \"white\"}}, \"shapedefaults\": {\"line\": {\"color\": \"#2a3f5f\"}}, \"ternary\": {\"aaxis\": {\"gridcolor\": \"white\", \"linecolor\": \"white\", \"ticks\": \"\"}, \"baxis\": {\"gridcolor\": \"white\", \"linecolor\": \"white\", \"ticks\": \"\"}, \"bgcolor\": \"#E5ECF6\", \"caxis\": {\"gridcolor\": \"white\", \"linecolor\": \"white\", \"ticks\": \"\"}}, \"title\": {\"x\": 0.05}, \"xaxis\": {\"automargin\": true, \"gridcolor\": \"white\", \"linecolor\": \"white\", \"ticks\": \"\", \"title\": {\"standoff\": 15}, \"zerolinecolor\": \"white\", \"zerolinewidth\": 2}, \"yaxis\": {\"automargin\": true, \"gridcolor\": \"white\", \"linecolor\": \"white\", \"ticks\": \"\", \"title\": {\"standoff\": 15}, \"zerolinecolor\": \"white\", \"zerolinewidth\": 2}}}, \"title\": {\"text\": \"Time dependency by N\"}, \"xaxis\": {\"title\": {\"text\": \"N\"}}, \"yaxis\": {\"title\": {\"text\": \"Time\"}}},                        {\"responsive\": true}                    ).then(function(){\n                            \nvar gd = document.getElementById('ed007b18-b630-4a6d-ba94-335d743fc259');\nvar x = new MutationObserver(function (mutations, observer) {{\n        var display = window.getComputedStyle(gd).display;\n        if (!display || display === 'none') {{\n            console.log([gd, 'removed!']);\n            Plotly.purge(gd);\n            observer.disconnect();\n        }}\n}});\n\n// Listen for the removal of the full notebook cells\nvar notebookContainer = gd.closest('#notebook-container');\nif (notebookContainer) {{\n    x.observe(notebookContainer, {childList: true});\n}}\n\n// Listen for the clearing of the current output cell\nvar outputEl = gd.closest('.output');\nif (outputEl) {{\n    x.observe(outputEl, {childList: true});\n}}\n\n                        })                };                });            </script>        </div>"
     },
     "metadata": {},
     "output_type": "display_data"
    }
   ],
   "source": [
    "analyze([(solve_scipy, False), (solve_thomas, True), (solve_scipy_band, True)],\n",
    "        u, max_N=1000, num_N=50, iters_to_time=100)"
   ],
   "metadata": {
    "collapsed": false,
    "pycharm": {
     "name": "#%%\n"
    }
   }
  },
  {
   "cell_type": "markdown",
   "source": [
    "Как видно из графиков, точность всех методов идентична, что немного меня настораживает, \n",
    "но всё же ошибки в построении графиков нет, как видно из вывода ячейки.\n",
    "\n",
    "Время работы встроенного решения `scipy.linalg.solve` растёт гораздо быстрее,\n",
    "чем методы прогонки. Хотя конечно константа у `scipy.linalg.solve_banded`\n",
    "гораздо меньше, чем у моего решения.\n",
    "\n"
   ],
   "metadata": {
    "collapsed": false,
    "pycharm": {
     "name": "#%% md\n"
    }
   }
  }
 ],
 "metadata": {
  "kernelspec": {
   "name": "python3",
   "language": "python",
   "display_name": "Python 3"
  },
  "language_info": {
   "codemirror_mode": {
    "name": "ipython",
    "version": 2
   },
   "file_extension": ".py",
   "mimetype": "text/x-python",
   "name": "python",
   "nbconvert_exporter": "python",
   "pygments_lexer": "ipython2",
   "version": "2.7.6"
  }
 },
 "nbformat": 4,
 "nbformat_minor": 0
}